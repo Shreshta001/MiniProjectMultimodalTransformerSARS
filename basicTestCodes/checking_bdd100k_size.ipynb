{
  "nbformat": 4,
  "nbformat_minor": 0,
  "metadata": {
    "colab": {
      "provenance": [],
      "authorship_tag": "ABX9TyNrWB4FNcLiE7Y4YBuaZmyj",
      "include_colab_link": true
    },
    "kernelspec": {
      "name": "python3",
      "display_name": "Python 3"
    },
    "language_info": {
      "name": "python"
    }
  },
  "cells": [
    {
      "cell_type": "markdown",
      "metadata": {
        "id": "view-in-github",
        "colab_type": "text"
      },
      "source": [
        "<a href=\"https://colab.research.google.com/github/Shreshta001/MiniProjectMultimodalTransformerSARS/blob/main/checking_bdd100k_size.ipynb\" target=\"_parent\"><img src=\"https://colab.research.google.com/assets/colab-badge.svg\" alt=\"Open In Colab\"/></a>"
      ]
    },
    {
      "cell_type": "code",
      "source": [
        "!kaggle datasets download -d marqui\"s03/bdd100k\""
      ],
      "metadata": {
        "colab": {
          "base_uri": "https://localhost:8080/"
        },
        "id": "QHgzF3jIfkAT",
        "outputId": "71ed63d5-fff5-4b23-a593-08042a58e2aa"
      },
      "execution_count": 2,
      "outputs": [
        {
          "output_type": "stream",
          "name": "stdout",
          "text": [
            "Dataset URL: https://www.kaggle.com/datasets/marquis03/bdd100k\n",
            "License(s): apache-2.0\n",
            "Downloading bdd100k.zip to /content\n",
            "100% 5.36G/5.38G [01:24<00:00, 85.0MB/s]\n",
            "100% 5.38G/5.38G [01:25<00:00, 68.0MB/s]\n"
          ]
        }
      ]
    },
    {
      "cell_type": "code",
      "source": [
        "import zipfile\n",
        "\n",
        "# Replace 'path/to/your/zipfile.zip' with the actual path to your ZIP file\n",
        "with zipfile.ZipFile('/content/bdd100k.zip', 'r') as zip_ref:\n",
        "    zip_ref.extractall()"
      ],
      "metadata": {
        "id": "SV46YI7rfkff"
      },
      "execution_count": 3,
      "outputs": []
    },
    {
      "cell_type": "markdown",
      "source": [],
      "metadata": {
        "id": "qxJQoPOuh6hO"
      }
    },
    {
      "cell_type": "code",
      "source": [
        "import os\n",
        "import pandas as pd\n",
        "\n",
        "# Define the directories for train, test, and validation images\n",
        "directories = ['/content/train/images', '/content/test', '/content/val/images']\n",
        "\n",
        "# Create a list to hold the image file paths\n",
        "image_files = []\n",
        "\n",
        "# Traverse through each directory to gather image file paths\n",
        "for image_directory in directories:\n",
        "    for root, _, files in os.walk(image_directory):\n",
        "        for file in files:\n",
        "            if file.lower().endswith(('.png', '.jpg', '.jpeg')):  # Check for image file extensions\n",
        "                image_files.append(os.path.join(root, file))  # Store the full path\n",
        "\n",
        "# Convert the list of image file paths to a DataFrame\n",
        "df = pd.DataFrame(image_files, columns=['image_path'])\n",
        "\n",
        "# Save the DataFrame to a CSV file\n",
        "csv_file_path = '/content/bdd100k_image_paths.csv'\n",
        "df.to_csv(csv_file_path, index=False)\n",
        "\n",
        "print(f\"CSV file with image paths saved to: {csv_file_path}\")\n",
        "\n",
        "# Load the CSV file into a DataFrame to output its size\n",
        "df_loaded = pd.read_csv(csv_file_path)\n",
        "print(f\"DataFrame size: {df_loaded.shape}\")  # Output the size (rows, columns)\n",
        "\n",
        "# Optional: Download the CSV file directly from Colab\n",
        "from google.colab import files\n",
        "files.download(csv_file_path)\n"
      ],
      "metadata": {
        "colab": {
          "base_uri": "https://localhost:8080/",
          "height": 52
        },
        "id": "ItluLyYofmKN",
        "outputId": "5cc924a4-b455-4b79-959d-5ca1a54e31ca"
      },
      "execution_count": 7,
      "outputs": [
        {
          "output_type": "stream",
          "name": "stdout",
          "text": [
            "CSV file with image paths saved to: /content/bdd100k_image_paths.csv\n",
            "DataFrame size: (100000, 1)\n"
          ]
        },
        {
          "output_type": "display_data",
          "data": {
            "text/plain": [
              "<IPython.core.display.Javascript object>"
            ],
            "application/javascript": [
              "\n",
              "    async function download(id, filename, size) {\n",
              "      if (!google.colab.kernel.accessAllowed) {\n",
              "        return;\n",
              "      }\n",
              "      const div = document.createElement('div');\n",
              "      const label = document.createElement('label');\n",
              "      label.textContent = `Downloading \"${filename}\": `;\n",
              "      div.appendChild(label);\n",
              "      const progress = document.createElement('progress');\n",
              "      progress.max = size;\n",
              "      div.appendChild(progress);\n",
              "      document.body.appendChild(div);\n",
              "\n",
              "      const buffers = [];\n",
              "      let downloaded = 0;\n",
              "\n",
              "      const channel = await google.colab.kernel.comms.open(id);\n",
              "      // Send a message to notify the kernel that we're ready.\n",
              "      channel.send({})\n",
              "\n",
              "      for await (const message of channel.messages) {\n",
              "        // Send a message to notify the kernel that we're ready.\n",
              "        channel.send({})\n",
              "        if (message.buffers) {\n",
              "          for (const buffer of message.buffers) {\n",
              "            buffers.push(buffer);\n",
              "            downloaded += buffer.byteLength;\n",
              "            progress.value = downloaded;\n",
              "          }\n",
              "        }\n",
              "      }\n",
              "      const blob = new Blob(buffers, {type: 'application/binary'});\n",
              "      const a = document.createElement('a');\n",
              "      a.href = window.URL.createObjectURL(blob);\n",
              "      a.download = filename;\n",
              "      div.appendChild(a);\n",
              "      a.click();\n",
              "      div.remove();\n",
              "    }\n",
              "  "
            ]
          },
          "metadata": {}
        },
        {
          "output_type": "display_data",
          "data": {
            "text/plain": [
              "<IPython.core.display.Javascript object>"
            ],
            "application/javascript": [
              "download(\"download_824d1a24-1178-4ef8-a3c9-4be96b8df211\", \"bdd100k_image_paths.csv\", 4220011)"
            ]
          },
          "metadata": {}
        }
      ]
    },
    {
      "cell_type": "code",
      "source": [],
      "metadata": {
        "id": "Gb2OPgiCiC88"
      },
      "execution_count": null,
      "outputs": []
    }
  ]
}
